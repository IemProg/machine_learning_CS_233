{
  "nbformat": 4,
  "nbformat_minor": 0,
  "metadata": {
    "kernelspec": {
      "display_name": "Python 3",
      "language": "python",
      "name": "python3"
    },
    "language_info": {
      "codemirror_mode": {
        "name": "ipython",
        "version": 3
      },
      "file_extension": ".py",
      "mimetype": "text/x-python",
      "name": "python",
      "nbconvert_exporter": "python",
      "pygments_lexer": "ipython3",
      "version": "3.6.7"
    },
    "colab": {
      "name": "hw_01_v1.ipynb",
      "provenance": []
    }
  },
  "cells": [
    {
      "cell_type": "markdown",
      "metadata": {
        "id": "9-sJdXaiR97h",
        "colab_type": "text"
      },
      "source": [
        "# Exercise 1: Introduction to Python"
      ]
    },
    {
      "cell_type": "markdown",
      "metadata": {
        "id": "9HXWAXP1R97o",
        "colab_type": "text"
      },
      "source": [
        "Welcome to the first exercise of Introduction to Machine Learning. Today we will get familiar with Python, the language we will use for all the exercises of this course. \n",
        "\n",
        "This week we will introduce some important concepts in the basics of Python. Next week, you will learn how to work with NumPy, a popular Python library used for scientific computing. \n",
        "\n",
        "Python is a popular language to use for machine learning tasks. This is especially because of the selection of **libraries and frameworks**, developed specifically for machine learning and scientific computing. To name a few, you have Keras, TensorFlow, PyTorch for developing neural networks, SciPy and NumPy used for scientific computing, Pandas for data analysis, etc. (You might also get to dabble in PyTorch in the upcoming weeks.)\n",
        "\n",
        "Python also allows you to write quick, readable, high-level code. It's great for fast prototyping. \n",
        "\n",
        "Let's get into it!"
      ]
    },
    {
      "cell_type": "markdown",
      "metadata": {
        "id": "xmNsjd2ZR97p",
        "colab_type": "text"
      },
      "source": [
        "## Miniconda and Jupyter Notebook\n",
        "\n",
        "If you're reading this Jupyter notebook as it is intended, chances are you already installed Miniconda. Miniconda is a small version of Anaconda, which is a Python distribution that comes with its own package management system, `conda`. Using `conda`, you can install and upgrade software packages and libraries. It will make managing the versions of the libraries you use very convenient.\n",
        "\n",
        "In these exercises we use the web-application Jupyter Notebook. Jupyter Notebook allows us to create these exercises which contain Python code, text explanations and visuals. \n",
        "\n",
        "The Jupyter Notebook document (such as the one you are looking at right now) consists of cells containing Python code, text or other content. You can run each cell by clicking on the button `Run` in the top toolbar, or you can use a keyboard shortcut `Ctrl` + `Enter` (run current cell) or `Shift` + `Enter` (run current cell and move to the cell below).\n",
        "\n",
        "## Running Python \n",
        "\n",
        "Jupyter Notebook is not the only way to write Python code. You can run Python in your terminal for some very quick coding. Try it by typing `python` into your terminal. This launches the Python interpreter. Try writing the following lines: \n",
        "\n",
        "`print(\"Hello world!\")`\n",
        "\n",
        "You can use Ctrl-D, Ctrl-Z or type `quit()` to exit.\n",
        "\n",
        "You can also save Python scripts as files and run them from the terminal. We have a script for you in this folder. Navigate to this folder in your terminal and run the script by typing `python first_script.py`. Python scripts typically have the extension `.py`.\n"
      ]
    },
    {
      "cell_type": "markdown",
      "metadata": {
        "id": "zMOZKaIOR97r",
        "colab_type": "text"
      },
      "source": [
        "## Indentation and Control Flow"
      ]
    },
    {
      "cell_type": "markdown",
      "metadata": {
        "id": "IWgg-2XmR97s",
        "colab_type": "text"
      },
      "source": [
        "Finally we get to start doing some coding!\n",
        "\n",
        "First thing to know: python does not separate different lines of code with a semicolon `;`. So just move to the next line with no worries."
      ]
    },
    {
      "cell_type": "code",
      "metadata": {
        "id": "b6_ykTUJR97u",
        "colab_type": "code",
        "colab": {
          "base_uri": "https://localhost:8080/",
          "height": 51
        },
        "outputId": "587906ab-6a16-4fd8-ac2e-6aa40bdcafac"
      },
      "source": [
        "# This is a Python comment. Start the line with `#` for a comment\n",
        "print(\"First line of code. I will declare some variables\")\n",
        "a = 1 #second line!!\n",
        "b = 2\n",
        "c = \"Fish\"\n",
        "print(\"My variables are: a =\", a, \", b =\", b, \", c =\", c)"
      ],
      "execution_count": 1,
      "outputs": [
        {
          "output_type": "stream",
          "text": [
            "First line of code. I will declare some variables\n",
            "My variables are: a = 1 , b = 2 , c = Fish\n"
          ],
          "name": "stdout"
        }
      ]
    },
    {
      "cell_type": "markdown",
      "metadata": {
        "id": "FEcOKeMVR97z",
        "colab_type": "text"
      },
      "source": [
        "Easy! However, in Python you have to be careful and have perfect indentation (a reason why Python code is so readable). The reason is, Python uses indentation to keep track of what is part of the if statement, the loops and the functions. This is different from Java (this is assuming you know Java) where you would have curly brackets `{ }` for this purpose. \n",
        "\n",
        "Let's start with the if statement.\n",
        "\n",
        "#### If Statement\n",
        "\n",
        "The rule is, all indented parts after the `if condition :` belong to that branch of the if statement. \n",
        "\n",
        "`if condition :\n",
        "     inside the statement\n",
        "     still inside the statement\n",
        " elif condition:\n",
        "     inside the else-if part of the statement\n",
        " else:\n",
        "     inside the else part of the statement\n",
        " outside the statement`\n",
        " \n",
        "Let's see it in action:"
      ]
    },
    {
      "cell_type": "code",
      "metadata": {
        "id": "xd4ckfPvR971",
        "colab_type": "code",
        "colab": {
          "base_uri": "https://localhost:8080/",
          "height": 119
        },
        "outputId": "99b22561-1a05-45ec-a296-3f5104a7c76a"
      },
      "source": [
        "if a+b == 3:\n",
        "    print(\"It's me again! We are inside the first if statement\")\n",
        "    print(\"It's optional to use parentheses for the condition a+b ==3\")\n",
        "    print(\"Don't forget to put a `:` at the end of the condition!!\")\n",
        "    if (c == \"Fish\"):\n",
        "        print(\"This is a second if statement inside the first one\")\n",
        "    print(\"I'm out of the second if statement, but still inside the first one\")\n",
        "else:\n",
        "    print(\"This is the else part of the first if statement.\")\n",
        "    print(\"These lines will never be printed!\")\n",
        "print(\"I'm not inside any of the if statements\")"
      ],
      "execution_count": 2,
      "outputs": [
        {
          "output_type": "stream",
          "text": [
            "It's me again! We are inside the first if statement\n",
            "It's optional to use parentheses for the condition a+b ==3\n",
            "Don't forget to put a `:` at the end of the condition!!\n",
            "This is a second if statement inside the first one\n",
            "I'm out of the second if statement, but still inside the first one\n",
            "I'm not inside any of the if statements\n"
          ],
          "name": "stdout"
        }
      ]
    },
    {
      "cell_type": "markdown",
      "metadata": {
        "id": "FZAbfk1ZR975",
        "colab_type": "text"
      },
      "source": [
        "#### Exercise:\n",
        "\n",
        "Let's see another if statement example. Try to figure out what the output will be **BEFORE** running the cell below.\n",
        "\n",
        "Reminder, we declared\n",
        "\n",
        "`a = 1\n",
        " b = 2\n",
        " c = Fish`"
      ]
    },
    {
      "cell_type": "code",
      "metadata": {
        "id": "olhMbq-IR977",
        "colab_type": "code",
        "colab": {
          "base_uri": "https://localhost:8080/",
          "height": 85
        },
        "outputId": "405d2a29-dfb2-4d56-ddf8-1e345e3da213"
      },
      "source": [
        "#Don't run me until you find the output first!\n",
        "if a == 5:\n",
        "    print (\"1\")\n",
        "    if b == 1:\n",
        "        print(\"2\")\n",
        "# here comes an else-if \n",
        "elif a == 2 or c == \"Fish\":\n",
        "    print(\"3\")\n",
        "    \n",
        "    if b == 1:\n",
        "        print(\"4\")\n",
        "        if b == 2:\n",
        "            print(\"5\")\n",
        "    if b == 2:\n",
        "        print(\"6\")\n",
        "    if c == \"Fish\":\n",
        "        if a == 1:\n",
        "            if b == 100:\n",
        "                print(\"7\")\n",
        "            else:\n",
        "                print(\"8\")\n",
        "    elif a == 1:\n",
        "        print(\"9\")\n",
        "print (\"10\")"
      ],
      "execution_count": 3,
      "outputs": [
        {
          "output_type": "stream",
          "text": [
            "3\n",
            "6\n",
            "8\n",
            "10\n"
          ],
          "name": "stdout"
        }
      ]
    },
    {
      "cell_type": "markdown",
      "metadata": {
        "id": "cvICctALR98A",
        "colab_type": "text"
      },
      "source": [
        "#### Loops\n",
        "\n",
        "Let's talk about loops. The syntax for a while loop is:\n",
        "\n",
        "`while condition:\n",
        "     inside the loop\n",
        "     inside the loop\n",
        "     inside the loop\n",
        " outside the loop`\n",
        " \n",
        " A small example:"
      ]
    },
    {
      "cell_type": "code",
      "metadata": {
        "id": "o7IBJvBbR98B",
        "colab_type": "code",
        "colab": {
          "base_uri": "https://localhost:8080/",
          "height": 85
        },
        "outputId": "b1958f77-855b-4621-a43e-fd6e851844ad"
      },
      "source": [
        "count = 0\n",
        "while count < 3:\n",
        "    count += 1 #this is the same as count = count +1\n",
        "    print(\"Count is\", count)\n",
        "print(\"Left the loop!\")"
      ],
      "execution_count": 4,
      "outputs": [
        {
          "output_type": "stream",
          "text": [
            "Count is 1\n",
            "Count is 2\n",
            "Count is 3\n",
            "Left the loop!\n"
          ],
          "name": "stdout"
        }
      ]
    },
    {
      "cell_type": "markdown",
      "metadata": {
        "id": "ZYUer02PR98I",
        "colab_type": "text"
      },
      "source": [
        "For loops iterate through sequences, in this way:\n",
        "\n",
        "`for x in sequence:\n",
        "     inside the loop\n",
        "     inside the loop\n",
        "     inside the loop\n",
        " outside the loop`\n",
        " \n",
        " An example is shown below:"
      ]
    },
    {
      "cell_type": "code",
      "metadata": {
        "id": "ENoqyKP5R98J",
        "colab_type": "code",
        "colab": {
          "base_uri": "https://localhost:8080/",
          "height": 204
        },
        "outputId": "d7fff308-c9db-4e62-ed2b-546c5cc6b160"
      },
      "source": [
        "#Here is a basic list of strings\n",
        "fish_list = [\"salmon\", \"trout\", \"parrot\", \"clown\", \"dory\"]\n",
        "\n",
        "#The for loop:\n",
        "for fish in fish_list:\n",
        "    print(fish)\n",
        "    print(\"*\")\n",
        "print(\"fish list over!\")"
      ],
      "execution_count": 5,
      "outputs": [
        {
          "output_type": "stream",
          "text": [
            "salmon\n",
            "*\n",
            "trout\n",
            "*\n",
            "parrot\n",
            "*\n",
            "clown\n",
            "*\n",
            "dory\n",
            "*\n",
            "fish list over!\n"
          ],
          "name": "stdout"
        }
      ]
    },
    {
      "cell_type": "markdown",
      "metadata": {
        "id": "hum81TJaR98N",
        "colab_type": "text"
      },
      "source": [
        "An incredibly useful built-in function to use in for loops is `range()`. Range allows you to create a sequence of integers from the start (default is 0), to the stop, with a given step size (default is 1). We can use `range()` in for loops as shown in the example below."
      ]
    },
    {
      "cell_type": "code",
      "metadata": {
        "id": "b7J8iQnCR98O",
        "colab_type": "code",
        "colab": {
          "base_uri": "https://localhost:8080/",
          "height": 442
        },
        "outputId": "244bb054-3cd4-4ba7-e9ce-5439028a0e12"
      },
      "source": [
        "#\"default start is 0, default step size is 1\"\n",
        "for number in range(7):\n",
        "    print (number)\n",
        "print(\"**\")\n",
        "\n",
        "#now we also provide the start as 2.\n",
        "#default step size 1 is still used.\n",
        "for number in range(2,7):\n",
        "    print(number)\n",
        "print(\"**\")\n",
        "\n",
        "#now we also provide the step size as 2.\n",
        "for number in range(2,7,2):\n",
        "    print(number)\n",
        "print(\"**\")    \n",
        "\n",
        "#what happens if step size is -1?\n",
        "for number in range(6,-1,-1):\n",
        "    print(number)"
      ],
      "execution_count": 6,
      "outputs": [
        {
          "output_type": "stream",
          "text": [
            "0\n",
            "1\n",
            "2\n",
            "3\n",
            "4\n",
            "5\n",
            "6\n",
            "**\n",
            "2\n",
            "3\n",
            "4\n",
            "5\n",
            "6\n",
            "**\n",
            "2\n",
            "4\n",
            "6\n",
            "**\n",
            "6\n",
            "5\n",
            "4\n",
            "3\n",
            "2\n",
            "1\n",
            "0\n"
          ],
          "name": "stdout"
        }
      ]
    },
    {
      "cell_type": "markdown",
      "metadata": {
        "id": "TAtairBiR98S",
        "colab_type": "text"
      },
      "source": [
        "One more useful built-in function will be `enumerate()`. Let's go back to the fish list.\n"
      ]
    },
    {
      "cell_type": "code",
      "metadata": {
        "id": "SJfO7vZTR98U",
        "colab_type": "code",
        "colab": {
          "base_uri": "https://localhost:8080/",
          "height": 102
        },
        "outputId": "141f0f58-14c9-4493-f659-3c995689e860"
      },
      "source": [
        "for fish in fish_list:\n",
        "    print(fish)"
      ],
      "execution_count": 7,
      "outputs": [
        {
          "output_type": "stream",
          "text": [
            "salmon\n",
            "trout\n",
            "parrot\n",
            "clown\n",
            "dory\n"
          ],
          "name": "stdout"
        }
      ]
    },
    {
      "cell_type": "markdown",
      "metadata": {
        "id": "vOFAobczR98Z",
        "colab_type": "text"
      },
      "source": [
        "What if I also want to keep track of the index of the list element? You can use `enumerate()` which creates a sequence of 2-tuples, where each tuple contains an integer index and an actual element of the original list. Here is how it looks like:"
      ]
    },
    {
      "cell_type": "code",
      "metadata": {
        "id": "qPz5ZxXAR98a",
        "colab_type": "code",
        "colab": {
          "base_uri": "https://localhost:8080/",
          "height": 102
        },
        "outputId": "3c3141ed-d720-4397-d641-0d1374fe57c0"
      },
      "source": [
        "for item_index, fish in enumerate(fish_list):\n",
        "    print(item_index, \":\", fish)"
      ],
      "execution_count": 8,
      "outputs": [
        {
          "output_type": "stream",
          "text": [
            "0 : salmon\n",
            "1 : trout\n",
            "2 : parrot\n",
            "3 : clown\n",
            "4 : dory\n"
          ],
          "name": "stdout"
        }
      ]
    },
    {
      "cell_type": "markdown",
      "metadata": {
        "id": "U-lYfbRZR98e",
        "colab_type": "text"
      },
      "source": [
        "### Data Types and Basic Operations:\n",
        "\n",
        "Python is a **dynamically typed** language. This means that the data type is inferred at run-time and can be changed during run-time. To check the type of a variable you can use the function `type()`."
      ]
    },
    {
      "cell_type": "code",
      "metadata": {
        "id": "TOnheMBoR98g",
        "colab_type": "code",
        "colab": {
          "base_uri": "https://localhost:8080/",
          "height": 119
        },
        "outputId": "607f7e9d-f8b3-48a7-9bac-558b52244593"
      },
      "source": [
        "#var_1 is first defined as an integer\n",
        "var_1 = 1\n",
        "print(var_1, \"is\", type(var_1))\n",
        "\n",
        "#var_1's type is changed to string\n",
        "var_1 = \"hi!\"\n",
        "print(var_1, \"is\", type(var_1))\n",
        "\n",
        "#more types\n",
        "var_1 = 0.312\n",
        "print(var_1, \"is\", type(var_1))\n",
        "var_1 = 3.\n",
        "print(var_1, \"is\", type(var_1))\n",
        "var_1 = 3+2j\n",
        "print(var_1, \"is\", type(var_1))\n",
        "var_1 = True\n",
        "print(var_1, \"is\", type(var_1))"
      ],
      "execution_count": 9,
      "outputs": [
        {
          "output_type": "stream",
          "text": [
            "1 is <class 'int'>\n",
            "hi! is <class 'str'>\n",
            "0.312 is <class 'float'>\n",
            "3.0 is <class 'float'>\n",
            "(3+2j) is <class 'complex'>\n",
            "True is <class 'bool'>\n"
          ],
          "name": "stdout"
        }
      ]
    },
    {
      "cell_type": "markdown",
      "metadata": {
        "id": "XFw0LCIoR98j",
        "colab_type": "text"
      },
      "source": [
        "#### Type Casting\n",
        "\n",
        "Some examples of type casting in Python:"
      ]
    },
    {
      "cell_type": "code",
      "metadata": {
        "id": "-wUR-ttlR98l",
        "colab_type": "code",
        "colab": {
          "base_uri": "https://localhost:8080/",
          "height": 221
        },
        "outputId": "c721bf5c-0349-4916-f0a1-ce6a1b5e33b0"
      },
      "source": [
        "# From int to float\n",
        "var_1 = 42\n",
        "print(var_1, \"is\", type(var_1))\n",
        "var_1 = float(var_1)\n",
        "print(var_1, \"is\", type(var_1))\n",
        "print (\"**\")\n",
        "\n",
        "# From float to int\n",
        "var_2 = 3.14\n",
        "print(var_2, \"is\", type(var_2))\n",
        "var_2 = int(var_2)\n",
        "#This operations does FLOOR, not round!\n",
        "print(var_2, \"is\", type(var_2))\n",
        "print (\"**\")\n",
        "\n",
        "# From string to int\n",
        "var_3 = \"100\"\n",
        "print(var_3, \"is\", type(var_3))\n",
        "var_3 = int(var_3)\n",
        "print(var_3, \"is\", type(var_3))\n",
        "print(\"**\")\n",
        "\n",
        "# From float to string\n",
        "var_4 = 1.23\n",
        "print(var_4, \"is\", type(var_4))\n",
        "var_4 = str(var_4)\n",
        "print(var_4, \"is\", type(var_4))\n",
        "print(\"**\")\n"
      ],
      "execution_count": 10,
      "outputs": [
        {
          "output_type": "stream",
          "text": [
            "42 is <class 'int'>\n",
            "42.0 is <class 'float'>\n",
            "**\n",
            "3.14 is <class 'float'>\n",
            "3 is <class 'int'>\n",
            "**\n",
            "100 is <class 'str'>\n",
            "100 is <class 'int'>\n",
            "**\n",
            "1.23 is <class 'float'>\n",
            "1.23 is <class 'str'>\n",
            "**\n"
          ],
          "name": "stdout"
        }
      ]
    },
    {
      "cell_type": "markdown",
      "metadata": {
        "id": "cVccm9A4R98o",
        "colab_type": "text"
      },
      "source": [
        "#### Basic Operations\n",
        "\n",
        "Arithmetic operations are fairly standard. There are some examples below. \n",
        "* Look out for the difference between `/` division and `//` integer division.\n",
        "* `**` is used for power.\n",
        "* `%` is modulo."
      ]
    },
    {
      "cell_type": "code",
      "metadata": {
        "id": "ardf2wDfR98q",
        "colab_type": "code",
        "colab": {
          "base_uri": "https://localhost:8080/",
          "height": 136
        },
        "outputId": "09a22658-022f-4fdd-f2ab-971804b98c5f"
      },
      "source": [
        "a = 50\n",
        "b = 7\n",
        "\n",
        "print(\"a+b=\", a+b)\n",
        "print(\"a-b=\", a-b)\n",
        "print(\"a*b=\", a*b)\n",
        "print(\"a/b=\", a/b)\n",
        "print(\"a//b=\", a//b) #integer divison\n",
        "print(\"a**b=\", a**b) #power\n",
        "print(\"a%b=\", a%b) #modulo"
      ],
      "execution_count": 11,
      "outputs": [
        {
          "output_type": "stream",
          "text": [
            "a+b= 57\n",
            "a-b= 43\n",
            "a*b= 350\n",
            "a/b= 7.142857142857143\n",
            "a//b= 7\n",
            "a**b= 781250000000\n",
            "a%b= 1\n"
          ],
          "name": "stdout"
        }
      ]
    },
    {
      "cell_type": "markdown",
      "metadata": {
        "id": "xCzLUYcVR98u",
        "colab_type": "text"
      },
      "source": [
        "Boolean operations are also fairly standard:"
      ]
    },
    {
      "cell_type": "code",
      "metadata": {
        "id": "eKlK2Xl1R98y",
        "colab_type": "code",
        "colab": {
          "base_uri": "https://localhost:8080/",
          "height": 68
        },
        "outputId": "13f8b06e-0bea-42c5-c5ee-556db622dae1"
      },
      "source": [
        "print(\"(True and False)=\", True and False)\n",
        "print(\"(True or False)=\", True or False)\n",
        "print(\"((True and False) or True) =\", (True and False) or True)"
      ],
      "execution_count": 12,
      "outputs": [
        {
          "output_type": "stream",
          "text": [
            "(True and False)= False\n",
            "(True or False)= True\n",
            "((True and False) or True) = True\n"
          ],
          "name": "stdout"
        }
      ]
    },
    {
      "cell_type": "markdown",
      "metadata": {
        "id": "AbkPTCtHR982",
        "colab_type": "text"
      },
      "source": [
        "You can declare strings with a single quote `'`, a double quote `\"` or a three double quotes `\"\"\"`. The string declared with `\"\"\"` is known as a *docstring*, it can span multiple lines and is usually used to comment functions and classes."
      ]
    },
    {
      "cell_type": "code",
      "metadata": {
        "id": "YaHYTFDXR983",
        "colab_type": "code",
        "colab": {
          "base_uri": "https://localhost:8080/",
          "height": 102
        },
        "outputId": "66a5eda6-d2fa-44af-f5de-22a36e5353b5"
      },
      "source": [
        "a = 'Life\\'s but a walking shadow, a poor player,' \n",
        "print(a)\n",
        "a = \"That struts and frets his hour upon the stage,\"\n",
        "print(a)\n",
        "a = \"\"\"And then is heard no more. It is a tale\n",
        "Told by an idiot, full of sound and fury,\n",
        "Signifying nothing.\"\"\"\n",
        "print(a)"
      ],
      "execution_count": 13,
      "outputs": [
        {
          "output_type": "stream",
          "text": [
            "Life's but a walking shadow, a poor player,\n",
            "That struts and frets his hour upon the stage,\n",
            "And then is heard no more. It is a tale\n",
            "Told by an idiot, full of sound and fury,\n",
            "Signifying nothing.\n"
          ],
          "name": "stdout"
        }
      ]
    },
    {
      "cell_type": "code",
      "metadata": {
        "id": "D8Oz-OZnR987",
        "colab_type": "code",
        "colab": {
          "base_uri": "https://localhost:8080/",
          "height": 34
        },
        "outputId": "33dbcf77-e149-4331-ae41-9c9af0683e5c"
      },
      "source": [
        "#The types of quotes do not change anything!\n",
        "a = \"fish\" #double quote\n",
        "b = 'fish' #single quote\n",
        "c = \"\"\"fish\"\"\" #three double quotes\n",
        "print(a==b, b==c) #the string is the same!"
      ],
      "execution_count": 14,
      "outputs": [
        {
          "output_type": "stream",
          "text": [
            "True True\n"
          ],
          "name": "stdout"
        }
      ]
    },
    {
      "cell_type": "markdown",
      "metadata": {
        "id": "n363HCrbR99A",
        "colab_type": "text"
      },
      "source": [
        "### Lists\n",
        "\n",
        "Lists are data types containing a sequence of values. The size of the list can change during run-time, as you add and remove elements from the list. \n",
        "\n",
        "Here is how you can create lists:"
      ]
    },
    {
      "cell_type": "code",
      "metadata": {
        "id": "5PwiRYo4R99C",
        "colab_type": "code",
        "colab": {
          "base_uri": "https://localhost:8080/",
          "height": 119
        },
        "outputId": "c8828aa7-637b-457c-fa60-6a30af1bf22d"
      },
      "source": [
        "list_a = []                        # empty\n",
        "print(\"list_a\", list_a)\n",
        "\n",
        "list_b = [1, 2, 3, 4]              # 4 elements\n",
        "print(\"list_b\", list_b)\n",
        "\n",
        "list_c = [1, 'cat', 0.23]          # mixed types\n",
        "print(\"list_c\", list_c)\n",
        "\n",
        "list_d = [1, ['cat', 'dog'], 2, 3] # list in list\n",
        "print(\"list_d:\", list_d)\n",
        "\n",
        "list_e = [1]*10 #a list of 1s of length 10\n",
        "print(\"list_e\", list_e)\n",
        "\n",
        "list_f = list(range(5)) #turns range object into a list\n",
        "print(\"list_f\", list_f)"
      ],
      "execution_count": 15,
      "outputs": [
        {
          "output_type": "stream",
          "text": [
            "list_a []\n",
            "list_b [1, 2, 3, 4]\n",
            "list_c [1, 'cat', 0.23]\n",
            "list_d: [1, ['cat', 'dog'], 2, 3]\n",
            "list_e [1, 1, 1, 1, 1, 1, 1, 1, 1, 1]\n",
            "list_f [0, 1, 2, 3, 4]\n"
          ],
          "name": "stdout"
        }
      ]
    },
    {
      "cell_type": "markdown",
      "metadata": {
        "id": "d5K9aT0HR99F",
        "colab_type": "text"
      },
      "source": [
        "Below we introduce some common operations with lists.\n",
        "* Use `len(list1)` to find the length of the list.\n",
        "* `list1.append(element)` to add an element to the end of the list.\n",
        "* `list1.insert(index, element)` to add an element to an index in the list\n",
        "* `list1.extend(list2)` to extend the elements of list1 with the elements of list2\n",
        "* `list1.pop()` removes last element from the list\n",
        "* `list1.pop(index)` removes the element at the given index\n",
        "* `list1.remove(element)` removes the first instance of the given element"
      ]
    },
    {
      "cell_type": "code",
      "metadata": {
        "id": "YhzTnvFIR99G",
        "colab_type": "code",
        "colab": {
          "base_uri": "https://localhost:8080/",
          "height": 136
        },
        "outputId": "a4c602f2-263c-464e-bffa-eb28dea096b1"
      },
      "source": [
        "#Some common operations\n",
        "b = [\"great\", \"minds\", \"think\", \"alike\"]\n",
        "print(\"b:\", b)\n",
        "\n",
        "#finding the length\n",
        "print(\"length of b is\", len(b))\n",
        "\n",
        "#append element to list\n",
        "b.append(\"sometimes\")\n",
        "print(\"b.append(\\\"sometimes\\\")=\",b)\n",
        "\n",
        "#extend list\n",
        "c = [\"-\", \"Abraham\", \"Lincoln\"]\n",
        "b.extend(c)\n",
        "print(\"c:\", c)\n",
        "print(\"b.extend(c)=\", b)\n",
        "\n",
        "#removes element and specific index\n",
        "b.pop(6)  \n",
        "print(\"b.pop(6)=\", b)\n",
        "\n",
        "#remove specific element\n",
        "b.remove(\"Lincoln\")  \n",
        "b.remove(\"-\")\n",
        "print(\"b.remove(\\\"Lincoln\\\"); b.remove(\\\"-\\\")=\", b)\n"
      ],
      "execution_count": 16,
      "outputs": [
        {
          "output_type": "stream",
          "text": [
            "b: ['great', 'minds', 'think', 'alike']\n",
            "length of b is 4\n",
            "b.append(\"sometimes\")= ['great', 'minds', 'think', 'alike', 'sometimes']\n",
            "c: ['-', 'Abraham', 'Lincoln']\n",
            "b.extend(c)= ['great', 'minds', 'think', 'alike', 'sometimes', '-', 'Abraham', 'Lincoln']\n",
            "b.pop(6)= ['great', 'minds', 'think', 'alike', 'sometimes', '-', 'Lincoln']\n",
            "b.remove(\"Lincoln\"); b.remove(\"-\")= ['great', 'minds', 'think', 'alike', 'sometimes']\n"
          ],
          "name": "stdout"
        }
      ]
    },
    {
      "cell_type": "markdown",
      "metadata": {
        "id": "fg2uiOFbR99K",
        "colab_type": "text"
      },
      "source": [
        "You  can also check whether an element is in a list in the following way:"
      ]
    },
    {
      "cell_type": "code",
      "metadata": {
        "id": "iLhMZ_qtR99L",
        "colab_type": "code",
        "colab": {
          "base_uri": "https://localhost:8080/",
          "height": 34
        },
        "outputId": "b084b284-7f9f-4a31-c285-edad5f85402c"
      },
      "source": [
        "list_1 = [\"a\", \"b\", \"c\"]\n",
        "if \"b\" in list_1:\n",
        "    print(\"\\\"b\\\" is in list\")\n",
        "else:\n",
        "    print(\"\\\"b\\\" is not in list\")"
      ],
      "execution_count": 17,
      "outputs": [
        {
          "output_type": "stream",
          "text": [
            "\"b\" is in list\n"
          ],
          "name": "stdout"
        }
      ]
    },
    {
      "cell_type": "markdown",
      "metadata": {
        "id": "qkTri-EJR99O",
        "colab_type": "text"
      },
      "source": [
        "#### List Indexing and Slicing:\n",
        "\n",
        "You can extract a single element from a list in the following way:\n",
        "`list1[index]`\n",
        "\n",
        "In lists, the indices start from 0. You can also index elements from the end of the list to the beginning by $-1, -2, -3...$. Check out the image below for the example list:\n",
        "\n",
        "`list_1 = [\"a\", \"b\", \"c\", \"d\", \"e\"]`"
      ]
    },
    {
      "cell_type": "markdown",
      "metadata": {
        "id": "rbRM4YmIR99P",
        "colab_type": "text"
      },
      "source": [
        "<img src=\"img/list_indices.png\" width=400/>"
      ]
    },
    {
      "cell_type": "markdown",
      "metadata": {
        "id": "qiht7-cnR99Q",
        "colab_type": "text"
      },
      "source": [
        "* You can extract multiple elements by slicing. This will give you elements from the start up to **(but not including)** the end index.\n",
        "\n",
        "  `list1[start_index:end_index]`\n",
        "\n",
        "\n",
        "* If you do not specify the `start_index`, you will retrieve the elements from index $0$ up to the `end_index`.\n",
        "\n",
        "  `list1[:end_index]` is the same as `list1[0:end_index]`\n",
        "\n",
        "\n",
        "* If you do not specify the `end_index`, you will retrieve the elements from the `start_index` up to (and **including**) the end of the list.\n",
        "\n",
        "  `list1[start_index:]`\n",
        "\n",
        "\n",
        "* You can provide a step size.\n",
        "  `list1[start_index:end_index:step_size]`\n",
        "  "
      ]
    },
    {
      "cell_type": "markdown",
      "metadata": {
        "id": "heSDlWz9R99R",
        "colab_type": "text"
      },
      "source": [
        "#### Exercise:\n",
        "\n",
        "Try to write the output of the following code **BEFORE** running the cell."
      ]
    },
    {
      "cell_type": "code",
      "metadata": {
        "id": "VOSekDpYR99R",
        "colab_type": "code",
        "colab": {
          "base_uri": "https://localhost:8080/",
          "height": 102
        },
        "outputId": "6f44a226-2b65-4406-c99d-f25887b009db"
      },
      "source": [
        "# Don't run BEFORE you solve it!\n",
        "list_1 = [\"a\", \"b\", \"c\", \"d\", \"e\"]\n",
        "\n",
        "print(\"list_1[-3] =\", list_1[-3])\n",
        "print(\"list_1[0:2] =\", list_1[0:2])\n",
        "print(\"list_1[:4:2] =\", list_1[:4:2])\n",
        "print(\"list_1[::-1] =\", list_1[::-1])\n",
        "print(\"list_1[-4:-1] =\", list_1[-4:-1])"
      ],
      "execution_count": 18,
      "outputs": [
        {
          "output_type": "stream",
          "text": [
            "list_1[-3] = c\n",
            "list_1[0:2] = ['a', 'b']\n",
            "list_1[:4:2] = ['a', 'c']\n",
            "list_1[::-1] = ['e', 'd', 'c', 'b', 'a']\n",
            "list_1[-4:-1] = ['b', 'c', 'd']\n"
          ],
          "name": "stdout"
        }
      ]
    },
    {
      "cell_type": "markdown",
      "metadata": {
        "id": "OnFwkrEvR99V",
        "colab_type": "text"
      },
      "source": [
        "You can also assign new values to indices using slicing. Here is an example:"
      ]
    },
    {
      "cell_type": "code",
      "metadata": {
        "id": "NqSpiGWnR99W",
        "colab_type": "code",
        "colab": {
          "base_uri": "https://localhost:8080/",
          "height": 68
        },
        "outputId": "6c6ee1b5-3dce-46b6-c0fd-5a421294416f"
      },
      "source": [
        "list_1 = [\"a\", \"b\", \"c\", \"d\", \"e\"]\n",
        "\n",
        "list_1[-1]= \"<3\"\n",
        "print(list_1)\n",
        "\n",
        "list_1[0:2] = [\"x\", \"y\"]\n",
        "print(list_1)\n",
        "\n",
        "list_1[::2] = [\":)\",\":(\", \":O\"]\n",
        "print(list_1)"
      ],
      "execution_count": 19,
      "outputs": [
        {
          "output_type": "stream",
          "text": [
            "['a', 'b', 'c', 'd', '<3']\n",
            "['x', 'y', 'c', 'd', '<3']\n",
            "[':)', 'y', ':(', 'd', ':O']\n"
          ],
          "name": "stdout"
        }
      ]
    },
    {
      "cell_type": "markdown",
      "metadata": {
        "id": "Hp4glGSMR99f",
        "colab_type": "text"
      },
      "source": [
        "#### Copying\n",
        "\n",
        "We have one last thing to say about lists. Observe the behaviour of the following code:"
      ]
    },
    {
      "cell_type": "code",
      "metadata": {
        "id": "ZNv6CbITR99h",
        "colab_type": "code",
        "colab": {
          "base_uri": "https://localhost:8080/",
          "height": 51
        },
        "outputId": "94fbf137-bee2-4a72-daba-728ee68ca0ba"
      },
      "source": [
        "#Case 1:\n",
        "\n",
        "list_1 = [\"a\", \"b\", \"c\", \"d\", \"e\"]\n",
        "print(\"list_1 before\", list_1)\n",
        "\n",
        "list_2 = list_1\n",
        "list_2.append(\"Z\")\n",
        "\n",
        "print(\"list_1 after\", list_1)"
      ],
      "execution_count": 20,
      "outputs": [
        {
          "output_type": "stream",
          "text": [
            "list_1 before ['a', 'b', 'c', 'd', 'e']\n",
            "list_1 after ['a', 'b', 'c', 'd', 'e', 'Z']\n"
          ],
          "name": "stdout"
        }
      ]
    },
    {
      "cell_type": "code",
      "metadata": {
        "id": "iTvFM52cR99n",
        "colab_type": "code",
        "colab": {
          "base_uri": "https://localhost:8080/",
          "height": 51
        },
        "outputId": "46a43043-a8b0-4928-90f0-3e44b4e65aa4"
      },
      "source": [
        "#Case 2:\n",
        "\n",
        "list_1 = [\"a\", \"b\", \"c\", \"d\", \"e\"]\n",
        "print(\"list_1 before function\", list_1)\n",
        "\n",
        "def function_that_changes_list(input_list):\n",
        "    input_list.append(\"Z\")\n",
        "\n",
        "function_that_changes_list(list_1)\n",
        "\n",
        "print(\"list_1 after function\", list_1)"
      ],
      "execution_count": 21,
      "outputs": [
        {
          "output_type": "stream",
          "text": [
            "list_1 before function ['a', 'b', 'c', 'd', 'e']\n",
            "list_1 after function ['a', 'b', 'c', 'd', 'e', 'Z']\n"
          ],
          "name": "stdout"
        }
      ]
    },
    {
      "cell_type": "markdown",
      "metadata": {
        "id": "KQFuTDT2R99s",
        "colab_type": "text"
      },
      "source": [
        "We never changed list_1 explicitly, but the values changed anyway. What's going on?\n",
        "\n",
        "Well, in Python, when you say `list_2 = list_1`, you are not actually creating a new list, you are only copying the **reference** to the same list. This means that they are actually two variables pointing to the same list! So when you change the values of `list_2`, the values of `list_1` also change (since they are referring to the same list). Something similar is at play when you pass this list to a function. So be careful!\n",
        "\n",
        "If you do not want this to happen, you can use the function `.copy()` to create a new object with the same values. \n",
        "\n",
        "#### Exercise:\n",
        "\n",
        "Change the code below and fix the two cases given above using the `.copy()` function. Make sure the contents of `list_1` do not change."
      ]
    },
    {
      "cell_type": "code",
      "metadata": {
        "id": "ckOY4XNIR99v",
        "colab_type": "code",
        "colab": {
          "base_uri": "https://localhost:8080/",
          "height": 153
        },
        "outputId": "33490a2f-5aea-434b-ab4b-75f00d58ca3d"
      },
      "source": [
        "#Case 1:\n",
        "list_1 = [\"a\", \"b\", \"c\", \"d\", \"e\"]\n",
        "print(\"list_1 before\", list_1)\n",
        "\n",
        "list_2 = list_1.copy()\n",
        "list_2.append(\"Z\")\n",
        "\n",
        "print(\"list_1 after\", list_1)\n",
        "print(\"list_2 after\", list_2)\n",
        "print(\"**\")\n",
        "\n",
        "#Case 2\n",
        "list_1 = [\"a\", \"b\", \"c\", \"d\", \"e\"]\n",
        "print(\"list_1 before function\", list_1)\n",
        "print(\"list_2 before function\", list_2)\n",
        "\n",
        "def function_that_changes_list(input_list):\n",
        "  input_list.copy().append(\"Z\")\n",
        "\n",
        "#function_that_changes_list(list_1)\n",
        "\n",
        "print(\"list_1 after function\", list_1)\n",
        "print(\"list_2 after function\", function_that_changes_list(list_1))"
      ],
      "execution_count": 36,
      "outputs": [
        {
          "output_type": "stream",
          "text": [
            "list_1 before ['a', 'b', 'c', 'd', 'e']\n",
            "list_1 after ['a', 'b', 'c', 'd', 'e']\n",
            "list_2 after ['a', 'b', 'c', 'd', 'e', 'Z']\n",
            "**\n",
            "list_1 before function ['a', 'b', 'c', 'd', 'e']\n",
            "list_2 before function ['a', 'b', 'c', 'd', 'e', 'Z']\n",
            "list_1 after function ['a', 'b', 'c', 'd', 'e']\n",
            "list_2 after function None\n"
          ],
          "name": "stdout"
        }
      ]
    },
    {
      "cell_type": "markdown",
      "metadata": {
        "id": "zwMiDbVCR991",
        "colab_type": "text"
      },
      "source": [
        "#### Exercise:\n",
        "\n",
        "Now that we know how lists work, here is a quick exercise for you. Fill in the function below that takes a list and returns True if it is a palindrome, False if it is not. Palindromes are defined as sequences that read the same forwards and backwards.\n",
        "Examples of palindrome lists:\n",
        "* [\"cat\", \"dog\", \"fish\", \"dog\", \"cat\"]\n",
        "* [0, 1, 2, 3, 3, 2, 1, 0]\n",
        "* [1]\n",
        "* []\n",
        "You may use a for loop in this exercise. However, if you're feeling ambitious try to do it in 1 line, without using a for loop (hint: use slicing)"
      ]
    },
    {
      "cell_type": "code",
      "metadata": {
        "id": "sOOKBkCKR993",
        "colab_type": "code",
        "colab": {
          "base_uri": "https://localhost:8080/",
          "height": 34
        },
        "outputId": "b3cc37e7-8e27-457e-da46-2306dbcefb41"
      },
      "source": [
        "def function_is_palindrome(input_list):\n",
        "    is_palindrome =  input_list == input_list[::-1]\n",
        "    return is_palindrome\n",
        "\n",
        "#test = [\"cat\", \"dog\", \"fish\", \"dog\", \"cat\"]\n",
        "#test = [\"cat\", \"cat\"]\n",
        "#test = [\"cat\", \"dog\", \"fish\",  \"bird\", \"dog\", \"cat\"]\n",
        "test = [\"cat\", \"dog\", \"fish\",  \"bird\", \"dog\", \"cat\"]\n",
        "function_is_palindrome(test)"
      ],
      "execution_count": 66,
      "outputs": [
        {
          "output_type": "execute_result",
          "data": {
            "text/plain": [
              "False"
            ]
          },
          "metadata": {
            "tags": []
          },
          "execution_count": 66
        }
      ]
    },
    {
      "cell_type": "code",
      "metadata": {
        "id": "9KP4xyw0R99_",
        "colab_type": "code",
        "colab": {
          "base_uri": "https://localhost:8080/",
          "height": 34
        },
        "outputId": "248d074f-c432-4c1c-c700-46fe96c1e729"
      },
      "source": [
        "test_list_1 = [\"cat\", \"dog\", \"fish\", \"dog\", \"cat\"]\n",
        "res_1 = function_is_palindrome(test_list_1)\n",
        "\n",
        "test_list_2 = [\"cat\", \"dog\", \"fish\",  \"bird\", \"dog\", \"cat\"]\n",
        "res_2 = function_is_palindrome(test_list_2)\n",
        "\n",
        "test_list_3 = [\"cat\"]\n",
        "res_3 = function_is_palindrome(test_list_3)\n",
        "\n",
        "test_list_4 = [\"cat\", \"cat\"]\n",
        "res_4 = function_is_palindrome(test_list_4)\n",
        "\n",
        "if not (res_1 and not res_2 and res_3 and res_4):\n",
        "    print(\"Test failed\")\n",
        "else:\n",
        "    print(\"Correct! :)\")\n"
      ],
      "execution_count": 67,
      "outputs": [
        {
          "output_type": "stream",
          "text": [
            "Correct! :)\n"
          ],
          "name": "stdout"
        }
      ]
    },
    {
      "cell_type": "markdown",
      "metadata": {
        "id": "qWWjhu7eR9-E",
        "colab_type": "text"
      },
      "source": [
        "## Tuples\n",
        "\n",
        "Tuples are similar to lists but they are fixed in size and **immutable**, which means that change is not allowed.\n",
        "We declare tuples in the following way using parentheses`()`:"
      ]
    },
    {
      "cell_type": "code",
      "metadata": {
        "id": "X8P3qzVTR9-G",
        "colab_type": "code",
        "colab": {
          "base_uri": "https://localhost:8080/",
          "height": 34
        },
        "outputId": "7f5a66b7-25a5-4a7d-9e69-7f220a5e148f"
      },
      "source": [
        "tuple_1 = (\"wash\", \"your\", \"hands\", \"with\", \"soap\")\n",
        "\n",
        "print(\"tuple_1=\", tuple_1)"
      ],
      "execution_count": 68,
      "outputs": [
        {
          "output_type": "stream",
          "text": [
            "tuple_1= ('wash', 'your', 'hands', 'with', 'soap')\n"
          ],
          "name": "stdout"
        }
      ]
    },
    {
      "cell_type": "markdown",
      "metadata": {
        "id": "VXPbWx-zR9-L",
        "colab_type": "text"
      },
      "source": [
        "Since change is not allowed, observe the result of the following piece of code."
      ]
    },
    {
      "cell_type": "code",
      "metadata": {
        "id": "OFfKrV8FR9-Q",
        "colab_type": "code",
        "colab": {
          "base_uri": "https://localhost:8080/",
          "height": 164
        },
        "outputId": "a92bc0fd-8212-4e8f-dbfa-d8f261c0677e"
      },
      "source": [
        "tuple_1[2] = (\"face\")"
      ],
      "execution_count": 69,
      "outputs": [
        {
          "output_type": "error",
          "ename": "TypeError",
          "evalue": "ignored",
          "traceback": [
            "\u001b[0;31m---------------------------------------------------------------------------\u001b[0m",
            "\u001b[0;31mTypeError\u001b[0m                                 Traceback (most recent call last)",
            "\u001b[0;32m<ipython-input-69-66139a6f2d7d>\u001b[0m in \u001b[0;36m<module>\u001b[0;34m()\u001b[0m\n\u001b[0;32m----> 1\u001b[0;31m \u001b[0mtuple_1\u001b[0m\u001b[0;34m[\u001b[0m\u001b[0;36m2\u001b[0m\u001b[0;34m]\u001b[0m \u001b[0;34m=\u001b[0m \u001b[0;34m(\u001b[0m\u001b[0;34m\"face\"\u001b[0m\u001b[0;34m)\u001b[0m\u001b[0;34m\u001b[0m\u001b[0;34m\u001b[0m\u001b[0m\n\u001b[0m",
            "\u001b[0;31mTypeError\u001b[0m: 'tuple' object does not support item assignment"
          ]
        }
      ]
    },
    {
      "cell_type": "markdown",
      "metadata": {
        "id": "L67xVVvWR9-V",
        "colab_type": "text"
      },
      "source": [
        "You can typecast from list to tuple and vice versa! "
      ]
    },
    {
      "cell_type": "code",
      "metadata": {
        "id": "8l5B7UPMR9-W",
        "colab_type": "code",
        "colab": {
          "base_uri": "https://localhost:8080/",
          "height": 68
        },
        "outputId": "ef2c7385-ea91-4216-ec83-1fdff3d814c6"
      },
      "source": [
        "sequence_1 = [\"here\", \"comes\", \"the\", \"sun\"]\n",
        "print(sequence_1, \"is\", type(sequence_1))\n",
        "\n",
        "\n",
        "# from list to tuple\n",
        "sequence_1 = tuple(sequence_1)\n",
        "print(sequence_1, \"is\", type(sequence_1))\n",
        "\n",
        "#from tuple to list\n",
        "sequence_1 = list(sequence_1)\n",
        "print(sequence_1, \"is\", type(sequence_1))"
      ],
      "execution_count": 70,
      "outputs": [
        {
          "output_type": "stream",
          "text": [
            "['here', 'comes', 'the', 'sun'] is <class 'list'>\n",
            "('here', 'comes', 'the', 'sun') is <class 'tuple'>\n",
            "['here', 'comes', 'the', 'sun'] is <class 'list'>\n"
          ],
          "name": "stdout"
        }
      ]
    },
    {
      "cell_type": "markdown",
      "metadata": {
        "id": "wlDcwxkGR9-r",
        "colab_type": "text"
      },
      "source": [
        "### Dictionaries\n",
        "\n",
        "An incredibly useful data type to know, you might also know dictionaries as \"hash maps\". Dictionaries are collections of \"key: value\" pairs. You can access the values using the keys in $O(1)$ time.\n",
        "\n",
        "The keys of a dictionary must be **immutable** and **unique**. Below we show how to define a dictionary.\n"
      ]
    },
    {
      "cell_type": "code",
      "metadata": {
        "id": "PmsGLL6MR9-t",
        "colab_type": "code",
        "colab": {
          "base_uri": "https://localhost:8080/",
          "height": 272
        },
        "outputId": "571f7875-ab6c-40ee-c8f5-d82d4dcfd6f9"
      },
      "source": [
        "shopping_list = {\"apples\": 3, \"pears\":2, \"eggs\":6, \"bread\":1, \"yogurt\":1}\n",
        "print(\"shopping_list=\", shopping_list)\n",
        "print(\"**\")\n",
        "\n",
        "\n",
        "book_dict = {}\n",
        "print(\"book_dict=\", book_dict)\n",
        "#add key value pairs\n",
        "book_dict[\"vonnegut\"] = \"cat\\'s cradle\"\n",
        "book_dict[\"ishiguro\"] = \"never let me go\"\n",
        "print(\"book_dict=\", book_dict)\n",
        "print(\"**\")\n",
        "\n",
        "# we can retrieve the dict keys:\n",
        "print(book_dict.keys())\n",
        "# and the dict values:\n",
        "print(book_dict.values())\n",
        "print(\"**\")\n",
        "\n",
        "#we can also iterate through the dict keys and values with a for loop\n",
        "for key, value in book_dict.items():\n",
        "    print(key, \":\", value)\n",
        "\n",
        "print(\"**\")\n",
        "#we can modify the value of a key\n",
        "book_dict[\"ishiguro\"] = \"a pale view of hills\"\n",
        "print(\"modified book_dict=\", book_dict)\n",
        "print(\"**\")\n",
        "\n",
        "#and we can remove a key completely\n",
        "removed_value = book_dict.pop(\"ishiguro\")\n",
        "print(\"book_dict with removed value =\", book_dict)\n",
        "print(\"removed_value=\", removed_value)"
      ],
      "execution_count": 71,
      "outputs": [
        {
          "output_type": "stream",
          "text": [
            "shopping_list= {'apples': 3, 'pears': 2, 'eggs': 6, 'bread': 1, 'yogurt': 1}\n",
            "**\n",
            "book_dict= {}\n",
            "book_dict= {'vonnegut': \"cat's cradle\", 'ishiguro': 'never let me go'}\n",
            "**\n",
            "dict_keys(['vonnegut', 'ishiguro'])\n",
            "dict_values([\"cat's cradle\", 'never let me go'])\n",
            "**\n",
            "vonnegut : cat's cradle\n",
            "ishiguro : never let me go\n",
            "**\n",
            "modified book_dict= {'vonnegut': \"cat's cradle\", 'ishiguro': 'a pale view of hills'}\n",
            "**\n",
            "book_dict with removed value = {'vonnegut': \"cat's cradle\"}\n",
            "removed_value= a pale view of hills\n"
          ],
          "name": "stdout"
        }
      ]
    },
    {
      "cell_type": "markdown",
      "metadata": {
        "id": "_uLartBoR9-y",
        "colab_type": "text"
      },
      "source": [
        "### Functions\n",
        "\n",
        "You can define a function in Python in the following way:"
      ]
    },
    {
      "cell_type": "code",
      "metadata": {
        "id": "DnKvp6ZqR9-z",
        "colab_type": "code",
        "colab": {
          "base_uri": "https://localhost:8080/",
          "height": 34
        },
        "outputId": "4cfe948e-ffc8-4caf-f3c7-d25aa25a7f1b"
      },
      "source": [
        "def multiply(a,b):\n",
        "    return a*b\n",
        "\n",
        "\n",
        "print(\"multiply(100,2) =\", multiply(100,2))"
      ],
      "execution_count": 72,
      "outputs": [
        {
          "output_type": "stream",
          "text": [
            "multiply(100,2) = 200\n"
          ],
          "name": "stdout"
        }
      ]
    },
    {
      "cell_type": "markdown",
      "metadata": {
        "id": "zHWpGRWRR9-3",
        "colab_type": "text"
      },
      "source": [
        "You can have default arguments by specifying their default value in the parameters."
      ]
    },
    {
      "cell_type": "code",
      "metadata": {
        "id": "djAH_ItmR9-4",
        "colab_type": "code",
        "colab": {
          "base_uri": "https://localhost:8080/",
          "height": 85
        },
        "outputId": "cd5a576c-51d7-49fb-c2ab-2d9b429aef05"
      },
      "source": [
        "def add(a, b, c=0, d=1):\n",
        "    return a+b+c+d\n",
        "\n",
        "#use no default arguments\n",
        "print(\"add(1,2,100,1000) =\", add(1,2,100,1000))\n",
        "\n",
        "#use the default value of d\n",
        "print(\"add(1,2,100) =\", add(1,2,100))\n",
        "\n",
        "#use the default value of c and d\n",
        "print(\"add(1,2) =\", add(1,2))\n",
        "\n",
        "#use the default value of c\n",
        "print(\"add(1,2,d=1000) =\", add(1,2,d=1000))"
      ],
      "execution_count": 73,
      "outputs": [
        {
          "output_type": "stream",
          "text": [
            "add(1,2,100,1000) = 1103\n",
            "add(1,2,100) = 104\n",
            "add(1,2) = 4\n",
            "add(1,2,d=1000) = 1003\n"
          ],
          "name": "stdout"
        }
      ]
    },
    {
      "cell_type": "markdown",
      "metadata": {
        "id": "l8win0UlR9-9",
        "colab_type": "text"
      },
      "source": [
        "A function can return multiple values in a tuple. You can assign the values of the tuple to separate variables. This is called **tuple unpacking**."
      ]
    },
    {
      "cell_type": "code",
      "metadata": {
        "id": "znNngQkoR9_D",
        "colab_type": "code",
        "colab": {
          "base_uri": "https://localhost:8080/",
          "height": 34
        },
        "outputId": "22756d78-f987-4d61-dfd9-035716f221ff"
      },
      "source": [
        "def min_max(input_list):\n",
        "    return min(input_list), max(input_list)\n",
        "\n",
        "\n",
        "test_list = [1,2,3,4]\n",
        "min_val, max_val = min_max(test_list)\n",
        "print(\"min_val:\", min_val, \", max_val:\", max_val)"
      ],
      "execution_count": 74,
      "outputs": [
        {
          "output_type": "stream",
          "text": [
            "min_val: 1 , max_val: 4\n"
          ],
          "name": "stdout"
        }
      ]
    },
    {
      "cell_type": "markdown",
      "metadata": {
        "id": "pbRDeaA0R9_L",
        "colab_type": "text"
      },
      "source": [
        "Note: You have seen tuple unpacking when using function `enumerate` in for loop."
      ]
    },
    {
      "cell_type": "markdown",
      "metadata": {
        "id": "gZRBhWizR9_N",
        "colab_type": "text"
      },
      "source": [
        "### Common Built-in Functions\n",
        "\n",
        "Here we introduce some nifty commonly used built-in functions. \n",
        "\n",
        "* You already learned `range()`, `enumerate()`!\n",
        "* We have also seen `type()` to return the type of the object. We use `str()`, `int()`, `float()`, `list()`, `tuple()` for typecasting.\n",
        "* The functions `len()`, `sum()`, `min()`, `max()`, `any()`, `all()`, `sorted()`, `zip()` are useful for lists and tuples.\n",
        "\n",
        "Let's see them in action below"
      ]
    },
    {
      "cell_type": "code",
      "metadata": {
        "id": "CMc9WjbPR9_P",
        "colab_type": "code",
        "colab": {
          "base_uri": "https://localhost:8080/",
          "height": 391
        },
        "outputId": "1159a974-d20f-4c4a-fca5-70b45f0f5bf0"
      },
      "source": [
        "list_1 = list(range(5))\n",
        "print(\"list_1 =\", list_1)\n",
        "\n",
        "print(\"len(list_1) =\", len(list_1))\n",
        "print(\"sum(list_1) =\", sum(list_1))\n",
        "print(\"min(list_1) =\", min(list_1))\n",
        "print(\"max(list_1) =\", max(list_1))\n",
        "print(\"**\")\n",
        "\n",
        "\n",
        "list_2 = [5,3,1,2,0,6]\n",
        "print(\"list_2 =\", list_2)\n",
        "print(\"sorted(list_2) =\", sorted(list_2))\n",
        "print(\"**\")\n",
        "\n",
        "\n",
        "#any checks whether there are any 1s in the list (OR)\n",
        "#all checks whether all elements are 1s. (AND)\n",
        "#in Python: 1 = True, 0 = False\n",
        "list_3 = [1, 1, 1]\n",
        "print(\"list_3 =\", list_3)\n",
        "print(\"any(list_3) =\", any(list_3))\n",
        "print(\"all(list_3) =\", all(list_3))\n",
        "\n",
        "list_4 = [0, 1, 1]\n",
        "print(\"list_4 =\", list_4)\n",
        "print(\"any(list_4) =\", any(list_4))\n",
        "print(\"all(list_4) =\", all(list_4))\n",
        "\n",
        "list_5 = [0, 0, 0]\n",
        "print(\"list_5 =\", list_5)\n",
        "print(\"any(list_5) =\", any(list_5))\n",
        "print(\"all(list_5) =\", all(list_5))\n",
        "print(\"**\")\n",
        "\n",
        "# zip function:\n",
        "x = [1,2,3]\n",
        "y = [4,5,6]\n",
        "zipped = zip(x,y)\n",
        "print(\"x\", x)\n",
        "print(\"y\", y)\n",
        "print(\"zipped\", list(zipped))"
      ],
      "execution_count": 75,
      "outputs": [
        {
          "output_type": "stream",
          "text": [
            "list_1 = [0, 1, 2, 3, 4]\n",
            "len(list_1) = 5\n",
            "sum(list_1) = 10\n",
            "min(list_1) = 0\n",
            "max(list_1) = 4\n",
            "**\n",
            "list_2 = [5, 3, 1, 2, 0, 6]\n",
            "sorted(list_2) = [0, 1, 2, 3, 5, 6]\n",
            "**\n",
            "list_3 = [1, 1, 1]\n",
            "any(list_3) = True\n",
            "all(list_3) = True\n",
            "list_4 = [0, 1, 1]\n",
            "any(list_4) = True\n",
            "all(list_4) = False\n",
            "list_5 = [0, 0, 0]\n",
            "any(list_5) = False\n",
            "all(list_5) = False\n",
            "**\n",
            "x [1, 2, 3]\n",
            "y [4, 5, 6]\n",
            "zipped [(1, 4), (2, 5), (3, 6)]\n"
          ],
          "name": "stdout"
        }
      ]
    },
    {
      "cell_type": "markdown",
      "metadata": {
        "id": "JR3djKGlR9_S",
        "colab_type": "text"
      },
      "source": [
        "### List Comprehensions\n",
        "\n",
        "One of the most practical things about Python is that you can do many things on just a single line. One popular example is so called *list comprehensions*, a specific syntax to create and initalize lists of objects. Here are some examples.\n",
        "\n",
        "A syntax for list comprehension is shown below:\n",
        "`[thing for thing in list]`\n",
        "\n",
        "Let's make it more concrete with an example."
      ]
    },
    {
      "cell_type": "code",
      "metadata": {
        "id": "LvSY0yMBR9_V",
        "colab_type": "code",
        "colab": {
          "base_uri": "https://localhost:8080/",
          "height": 68
        },
        "outputId": "5dc43ec5-27c7-46d8-ee8c-558de2fc2306"
      },
      "source": [
        "list_of_numbers = [1, 2, 3, 101, 102, 103]\n",
        "print(\"list_of_numbers =\", list_of_numbers)\n",
        "\n",
        "#I want to create a new list with all these items doubled.\n",
        "doubled_list = [2*elem for elem in list_of_numbers]\n",
        "print(\"doubled_list =\", doubled_list)\n",
        "\n",
        "#A new list with all these items as floats\n",
        "float_list = [float(elem) for elem in list_of_numbers]\n",
        "print(\"float_list =\", float_list)"
      ],
      "execution_count": 76,
      "outputs": [
        {
          "output_type": "stream",
          "text": [
            "list_of_numbers = [1, 2, 3, 101, 102, 103]\n",
            "doubled_list = [2, 4, 6, 202, 204, 206]\n",
            "float_list = [1.0, 2.0, 3.0, 101.0, 102.0, 103.0]\n"
          ],
          "name": "stdout"
        }
      ]
    },
    {
      "cell_type": "markdown",
      "metadata": {
        "id": "-l5fczNCR9_e",
        "colab_type": "text"
      },
      "source": [
        "Let's make it more interesting by adding an if in there:\n",
        "\n",
        "`[thing for thing in list if condition]`\n"
      ]
    },
    {
      "cell_type": "code",
      "metadata": {
        "id": "EYHmFZAPR9_i",
        "colab_type": "code",
        "colab": {
          "base_uri": "https://localhost:8080/",
          "height": 34
        },
        "outputId": "fbad56bc-8f02-45b0-9c79-dbd1cd41954e"
      },
      "source": [
        "#I want to create a new list with all these items doubled\n",
        "#IF the element is above 100\n",
        "conditional_doubled_list = [2*elem for elem in list_of_numbers if elem>100]\n",
        "print(\"conditional_doubled_list =\", conditional_doubled_list)"
      ],
      "execution_count": 77,
      "outputs": [
        {
          "output_type": "stream",
          "text": [
            "conditional_doubled_list = [202, 204, 206]\n"
          ],
          "name": "stdout"
        }
      ]
    },
    {
      "cell_type": "markdown",
      "metadata": {
        "id": "1Ii7OKsZR9_m",
        "colab_type": "text"
      },
      "source": [
        "**Exercise**\n",
        "\n",
        "You will be given a list of vocabulary words. Your task is to use list comprehensions to iterate through a document and create a new list including the words that are included in the vocabulary. You don't need to worry about duplicates.\n",
        "\n",
        "Example: `vocabulary = [\"a\" \"c\", \"e\"]\n",
        "         document = [\"a\", \"b\", \"c\", \"d\"]\n",
        "         new_list = [\"a\", \"c\"]`"
      ]
    },
    {
      "cell_type": "code",
      "metadata": {
        "id": "53FKam2NR9_n",
        "colab_type": "code",
        "colab": {}
      },
      "source": [
        "vocabulary = ['epfl', 'europe', 'swiss', 'switzerland', 'best', 'education', 'high', 'higher', 'research', 'school', 'science', 'students', 'technology', 'top-tier', 'university']\n",
        "\n",
        "document = \"\"\"The École polytechnique fédérale de Lausanne (EPFL) is a research institute\n",
        "and university in Lausanne, Switzerland, that specializes in natural sciences and engineering.\n",
        "It is one of the two Swiss Federal Institutes of Technology, and it has three main missions: \n",
        "education, research and technology transfer at the highest international level. EPFL is widely regarded \n",
        "as a world leading university. The QS World University Rankings ranks EPFL 12th in the world \n",
        "across all fields in their 2017/2018 ranking, whilst Times Higher Education World \n",
        "University Rankings ranks EPFL as the world's 11th best school for Engineering and Technology.\"\"\"\n",
        "document_parsed = document.split()\n",
        "document_parsed = [word.lower() for word in document_parsed]\n",
        "new_list = []\n",
        "\n",
        "#your code here\n",
        "new_list = [word for word in document_parsed if word in vocabulary]\n",
        "\n",
        "#We convert the list to a set and then back to a list. We do this because converting it to a set automatically\n",
        "#removes duplicates (since sets are sequences that do not contain duplicates). afterwards we sort it.\n",
        "new_list = sorted(list(set(new_list)))\n"
      ],
      "execution_count": 0,
      "outputs": []
    },
    {
      "cell_type": "code",
      "metadata": {
        "id": "Rg2dAU4TR9_r",
        "colab_type": "code",
        "colab": {
          "base_uri": "https://localhost:8080/",
          "height": 34
        },
        "outputId": "52c81e42-3f63-44a9-cae2-bf2c5958cb87"
      },
      "source": [
        "correct_result = ['best', 'education', 'epfl', 'higher', 'research', 'school', 'swiss', 'technology', 'university']\n",
        "\n",
        "if new_list == correct_result:\n",
        "    print (\"Correct! :)\")\n",
        "else:\n",
        "    print (\"Incorrect :(\")\n"
      ],
      "execution_count": 80,
      "outputs": [
        {
          "output_type": "stream",
          "text": [
            "Correct! :)\n"
          ],
          "name": "stdout"
        }
      ]
    },
    {
      "cell_type": "markdown",
      "metadata": {
        "id": "NB6ZF6mhR9_w",
        "colab_type": "text"
      },
      "source": [
        "### Matplotlib (Optional)"
      ]
    },
    {
      "cell_type": "markdown",
      "metadata": {
        "id": "9ybrbIrpR9_x",
        "colab_type": "text"
      },
      "source": [
        "Perhaps the most widely used plotting library in Python is Matplotlib. If you've ever used MATLAB, you'll find that the functions look pretty similar. \n",
        "\n",
        "In the following exercise sessions, we won't ask you to do any plotting. So this part is optional for those who are interested in having a short introduction.\n",
        "\n",
        "First, we will import Matplotlib."
      ]
    },
    {
      "cell_type": "markdown",
      "metadata": {
        "id": "SUap1c2eR9_y",
        "colab_type": "text"
      },
      "source": [
        "#### Importing in Python\n",
        "\n",
        "* A short note on importing: to be able to use modules in our code, we import them. \n",
        "  \n",
        "  example: `import numpy`\n",
        "  \n",
        "\n",
        "* We can also select a name for the imported module.\n",
        "  \n",
        "  example: `import numpy as np`. Now when we call numpy functions, we will always use `np.` as a prefix, i.e. `np.zeros()`\n",
        "  \n",
        "\n",
        "* You can also choose to only import selected functions/variables/classes from the module. \n",
        "  \n",
        "  example: `from numpy import arange`. Now you can use this function as `arange(5)`. You cannot use any other functions from the numpy module as you did not import them."
      ]
    },
    {
      "cell_type": "code",
      "metadata": {
        "id": "gPRSsKT6R9_z",
        "colab_type": "code",
        "colab": {}
      },
      "source": [
        "# To import Matplotlib we do:\n",
        "\n",
        "import matplotlib.pyplot as plt"
      ],
      "execution_count": 0,
      "outputs": []
    },
    {
      "cell_type": "markdown",
      "metadata": {
        "id": "5wf5VWWjR9_3",
        "colab_type": "text"
      },
      "source": [
        "Let's do some plotting! \n",
        "\n",
        "Let's start with the simplest of plots, the good old line-plot. The function we will use is `plot()`"
      ]
    },
    {
      "cell_type": "code",
      "metadata": {
        "id": "UJPlkfG0R9_4",
        "colab_type": "code",
        "colab": {
          "base_uri": "https://localhost:8080/",
          "height": 295
        },
        "outputId": "fe63e1b5-a1c8-4387-bc8a-2878b2d7b111"
      },
      "source": [
        "#Let's create some data first to plot\n",
        "x = list(range(10))\n",
        "y = [2,3,5,1,0,2,3,0,0,1]\n",
        "\n",
        "#first create a figure\n",
        "fig = plt.figure()\n",
        "\n",
        "#now do the plotting\n",
        "#specifying a color and marker are optional.\n",
        "#check out the documentation to see what else you can do with the plot function\n",
        "plt.plot(x, y, marker=\"*\", color=\"r\")\n",
        "\n",
        "#axis labels and title\n",
        "plt.xlabel(\"x\")\n",
        "plt.ylabel(\"y\")\n",
        "plt.title(\"just a random plot\")\n",
        "\n",
        "#so that we see the plot\n",
        "plt.show()\n",
        "\n",
        "#close the plot\n",
        "plt.close(fig)"
      ],
      "execution_count": 82,
      "outputs": [
        {
          "output_type": "display_data",
          "data": {
            "image/png": "[encoded data removed]",
            "text/plain": [
              "<Figure size 432x288 with 1 Axes>"
            ]
          },
          "metadata": {
            "tags": []
          }
        }
      ]
    },
    {
      "cell_type": "markdown",
      "metadata": {
        "id": "brWJEEWDR9_7",
        "colab_type": "text"
      },
      "source": [
        "#### Exercise\n",
        "\n",
        "You can plot two lines on top of one another by calling the `plt.plot()` function consecutively. Try to implement this! Also, specify the parameter `label` of the `plt.plot()` function and call the function `plt.legend()` to create a legend for your graph. It should look like the figure shown below."
      ]
    },
    {
      "cell_type": "markdown",
      "metadata": {
        "id": "m7Xv44oMR9_8",
        "colab_type": "text"
      },
      "source": [
        "![result](img/two_lines_plot.png)"
      ]
    },
    {
      "cell_type": "code",
      "metadata": {
        "id": "08wKniSxR9_9",
        "colab_type": "code",
        "colab": {
          "base_uri": "https://localhost:8080/",
          "height": 279
        },
        "outputId": "b9f2358c-4d95-4ad6-ead1-abcae383e854"
      },
      "source": [
        "#Let's create some data first to plot\n",
        "x = list(range(10))\n",
        "y1 = [2,3,5,1,0,2,3,0,0,1]\n",
        "y2 = [1,2,3,5,1,0,2,3,0,0]\n",
        "\n",
        "#first create a figure\n",
        "fig = plt.figure()\n",
        "#your code here\n",
        "line1 = plt.plot(x, y1, marker=\"*\", color=\"r\", label = \"red line\")\n",
        "line2 = plt.plot(x, y2, marker=\"*\", color=\"b\", label = \"blue line\")\n",
        "\n",
        "plt.xlabel(\"x\")\n",
        "plt.ylabel(\"y\")\n",
        "plt.legend([\"red line\", \"blue line\"])\n",
        "plt.show()\n",
        "\n",
        "plt.close(fig)\n"
      ],
      "execution_count": 93,
      "outputs": [
        {
          "output_type": "display_data",
          "data": {
            "image/png": "[encoded data removed]",
            "text/plain": [
              "<Figure size 432x288 with 1 Axes>"
            ]
          },
          "metadata": {
            "tags": []
          }
        }
      ]
    },
    {
      "cell_type": "markdown",
      "metadata": {
        "id": "IdiY_rEMR-AC",
        "colab_type": "text"
      },
      "source": [
        "You can create scatter plots (line plots without lines) with `scatter()`"
      ]
    },
    {
      "cell_type": "code",
      "metadata": {
        "id": "mF6op5SmR-AE",
        "colab_type": "code",
        "colab": {
          "base_uri": "https://localhost:8080/",
          "height": 295
        },
        "outputId": "998bcb33-b735-4174-fa95-a149f79cf8ca"
      },
      "source": [
        "#Let's create some data first to plot\n",
        "x = list(range(10))\n",
        "y1 = [2,3,5,1,0,2,3,0,0,1]\n",
        "\n",
        "#first create a figure\n",
        "fig = plt.figure()\n",
        "\n",
        "#now do the plotting\n",
        "p1 = plt.scatter(x, y1, marker=\"*\", color=\"r\")\n",
        "\n",
        "#axis labels and title\n",
        "plt.xlabel(\"x\")\n",
        "plt.ylabel(\"y\")\n",
        "plt.title(\"just a random scatter plot\")\n",
        "\n",
        "#so that we see the plot\n",
        "plt.show()\n",
        "\n",
        "#close the plot\n",
        "plt.close(fig)"
      ],
      "execution_count": 94,
      "outputs": [
        {
          "output_type": "display_data",
          "data": {
            "image/png": "[encoded data removed]",
            "text/plain": [
              "<Figure size 432x288 with 1 Axes>"
            ]
          },
          "metadata": {
            "tags": []
          }
        }
      ]
    },
    {
      "cell_type": "markdown",
      "metadata": {
        "id": "yERbqMqlR-AG",
        "colab_type": "text"
      },
      "source": [
        "And you can read and display images with `imread()` and `imshow()`"
      ]
    },
    {
      "cell_type": "code",
      "metadata": {
        "id": "dY_lr4TpR-AH",
        "colab_type": "code",
        "colab": {}
      },
      "source": [
        "#first create a figure\n",
        "fig = plt.figure()\n",
        "\n",
        "#now do the plotting\n",
        "im = plt.imread(\"img/krabby_patty.jpg\")\n",
        "plt.imshow(im)\n",
        "\n",
        "#axis labels and title\n",
        "plt.xlabel(\"x\")\n",
        "plt.ylabel(\"y\")\n",
        "plt.title(\"krabby patty\")\n",
        "\n",
        "#so that we see the plot\n",
        "plt.show()\n",
        "\n",
        "#close the plot\n",
        "plt.close(fig)"
      ],
      "execution_count": 0,
      "outputs": []
    },
    {
      "cell_type": "markdown",
      "metadata": {
        "id": "Ut0PJvsZR-AK",
        "colab_type": "text"
      },
      "source": [
        "And that's all for this exercise! If you have any problems, just ask (or even Google) them. You can check out the official Python tutorials for further learning.\n",
        "\n",
        "https://docs.python.org/3/tutorial/"
      ]
    }
  ]
}